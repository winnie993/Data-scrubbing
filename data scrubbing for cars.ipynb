{
 "cells": [
  {
   "cell_type": "code",
   "execution_count": 2,
   "id": "c7d50660",
   "metadata": {},
   "outputs": [],
   "source": [
    "import requests\n",
    "from bs4 import BeautifulSoup"
   ]
  },
  {
   "cell_type": "code",
   "execution_count": 56,
   "id": "9fe15532",
   "metadata": {
    "scrolled": true
   },
   "outputs": [
    {
     "name": "stdout",
     "output_type": "stream",
     "text": [
      "/\n",
      "/\n",
      "/vehicles\n",
      "/cars\n",
      "/cars\n",
      "/buses\n",
      "/heavy-equipments-machinery\n",
      "/motorcycles-and-scooters\n",
      "/price-valuation?categoryId=29\n",
      "/mombasa-cbd/cars/land-rover-range-rover-sport-2016-gray-wvfIcVLtL92Ru1uOZ354RPD0.html\n",
      "/ganjoni/cars/land-rover-range-rover-sport-2017-white-1nVrN0bfYUGJqPQ6r4zoF5gn.html\n",
      "/mombasa-cbd/cars/land-rover-range-rover-sport-2016-white-8FCqvSPcXr7SC5dJnn9EoAC9.html\n",
      "/mombasa-cbd/cars/land-rover-range-rover-sport-hse-4x4-3-0l-6cyl-8a-2016-red-v3kUPh6S10k8mHscarKFOPmY.html\n",
      "/mombasa-cbd/cars/land-rover-range-rover-sport-2018-black-yvlbNfDER8IJNlCl9GR8Ho7P.html\n",
      "/mombasa-cbd/cars/land-rover-range-rover-sport-svr-4x4-5-0l-8cyl-8a-2017-blue-xvPq89gaoyOKGjpy1c9I43dY.html\n",
      "/mombasa-cbd/cars/land-rover-range-rover-sport-2016-green-tvjM4MB2zHPkS8Rv9iRJwvBM.html\n",
      "/mombasa-cbd/cars/land-rover-range-rover-sport-se-4x4-3-0l-6cyl-8a-2016-white-i6nanwXF6LQfLrK9ng9xxpsL.html\n",
      "/ganjoni/cars/land-rover-range-rover-sport-2017-black-dDxlCGvqIx5s7JGCg4jcXnNe.html\n",
      "/kizingo/cars/land-rover-range-rover-sport-2015-burgandy-hUhOXezKswBDhfw2BgekwrIB.html\n",
      "/mombasa-cbd/cars/land-rover-range-rover-sport-hse-4x4-3-0l-6cyl-8a-2016-gray-2XvIjiJVEtAu9MwHlUqegqDl.html\n",
      "/mombasa-cbd/cars/land-rover-range-rover-sport-2017-blue-uZaH6ay7aGjE2MQoxEODJOew.html\n",
      "/mombasa-cbd/cars/land-rover-range-rover-sport-hse-4x4-3-0l-6cyl-8a-2017-black-BISCVjgwk5K3sOZszJhHfnam.html\n",
      "/mombasa-cbd/cars/land-rover-range-rover-sport-2016-matt-black-12A98OdP1sOJ4Lw7yBs1Bgof.html\n",
      "/ganjoni/cars/land-rover-range-rover-sport-hse-4x4-3-0l-6cyl-8a-2016-white-BWCVGKLKflWqJ4xQqkcrVVXU.html\n",
      "/mombasa-cbd/cars/land-rover-range-rover-sport-2016-black-GRQ07vMOGgtTQG1gwTvHHTc.html\n",
      "/mombasa-cbd/cars/land-rover-range-rover-sport-2014-white-eZt5nl9Pn7W3ZQsdO2HCRTqE.html\n",
      "/mombasa-cbd/cars/land-rover-range-rover-sport-2016-gray-lcKtvIKLja1QJlFT733UcSXi.html\n",
      "/mombasa-cbd/cars/land-rover-range-rover-sport-2016-white-BK90QG4dZmmM6IsRGQdN3vp8.html\n",
      "/mombasa-cbd/cars/land-rover-range-rover-sport-2016-black-wIEl7OZIolwVuULg4Q43FcQI.html\n",
      "/cars/land-rover-range-rover-sport\n",
      "/cars/land-rover-range-rover-sport\n",
      "/cars/land-rover-range-rover-sport?page=2\n",
      "/cars/land-rover-range-rover-sport?page=3\n",
      "/cars/land-rover-range-rover-sport?page=4\n",
      "/cars/land-rover-range-rover-sport?page=5\n",
      "/cars/land-rover-range-rover-sport?page=10\n",
      "/cars/land-rover-range-rover-sport?page=2\n",
      "/cars/land-rover-range-rover-sport-2015\n",
      "/cars/land-rover-range-rover-sport-2016\n",
      "/cars/land-rover-range-rover-sport-2017\n",
      "/cars/land-rover-range-rover-sport-2014\n",
      "/cars/land-rover-range-rover-sport-2016-white\n",
      "/cars/land-rover-range-rover-sport-2016-black\n",
      "/cars/land-rover-range-rover-sport-2015-white\n",
      "/cars/land-rover-range-rover-sport-2016-gray\n",
      "/cars/land-rover-range-rover-sport-2016-blue\n",
      "/cars/land-rover-range-rover-sport-2015-red\n",
      "/cars/land-rover-range-rover-sport-2017-white\n",
      "/cars/land-rover-range-rover-sport-2015-gray\n",
      "/cars/land-rover-range-rover-sport-2015-blue\n",
      "/cars/land-rover-range-rover-sport-2015-black\n",
      "/cars/land-rover-range-rover-sport-2013\n",
      "/cars/land-rover-range-rover-sport-2011\n",
      "/cars/land-rover-range-rover-sport-2017-blue\n",
      "/cars/land-rover-range-rover-sport-2014-white\n",
      "https://jiji.co.ke/mombasa-cbd/cars/land-rover-range-rover-sport-2016-gray-wvfIcVLtL92Ru1uOZ354RPD0.html\n",
      "https://jiji.co.ke/mombasa-cbd/cars/land-rover-range-rover-sport-se-4x4-3-0l-6cyl-8a-2016-white-i6nanwXF6LQfLrK9ng9xxpsL.html\n",
      "https://jiji.co.ke/ganjoni/cars/land-rover-range-rover-sport-hse-4x4-3-0l-6cyl-8a-2016-white-BWCVGKLKflWqJ4xQqkcrVVXU.html\n",
      "https://jiji.co.ke/mombasa-cbd/cars/land-rover-range-rover-sport-2016-white-BK90QG4dZmmM6IsRGQdN3vp8.html\n",
      "https://jiji.co.ke/mombasa-cbd/cars/land-rover-range-rover-sport-2016-black-wIEl7OZIolwVuULg4Q43FcQI.html\n",
      "https://jiji.co.ke/mombasa-cbd/cars/land-rover-range-rover-sport-2016-black-GRQ07vMOGgtTQG1gwTvHHTc.html\n",
      "https://jiji.co.ke/ganjoni/cars/land-rover-range-rover-sport-hse-4x4-3-0l-6cyl-8a-2016-white-BWCVGKLKflWqJ4xQqkcrVVXU.html\n",
      "https://jiji.co.ke/mombasa-cbd/cars/land-rover-range-rover-sport-hse-4x4-3-0l-6cyl-8a-2016-red-v3kUPh6S10k8mHscarKFOPmY.html\n",
      "https://jiji.co.ke/mombasa-cbd/cars/land-rover-range-rover-sport-hse-4x4-3-0l-6cyl-8a-2016-gray-2XvIjiJVEtAu9MwHlUqegqDl.html\n",
      "https://itunes.apple.com/us/app/jiji.ng/id1037699776\n",
      "https://play.google.com/store/apps/details?id=com.olx.ssa.ke\n",
      "/about.html\n",
      "/hiring.html\n",
      "/rules.html\n",
      "/billing-policy.html\n",
      "/safety-tips.html\n",
      "/faq\n",
      "/privacy.html\n",
      "/contacts.html\n",
      "https://jiji.africa\n",
      "/jiji-pages/copyright-infringement-policy\n",
      "https://jiji.ng\n",
      "https://jiji.ug\n",
      "https://jiji.co.tz\n",
      "https://jiji.com.gh\n",
      "https://jiji.com.et\n",
      "https://jiji.sn\n",
      "https://jiji.co.ci\n",
      "https://jiji.com.bd\n",
      "https://jiji.lk\n"
     ]
    }
   ],
   "source": [
    "myurl='https://jiji.co.ke/cars/land-rover-range-rover-sport'\n",
    "response=requests.get(myurl)\n",
    "myresult=BeautifulSoup(response.content, \"html.parser\")\n",
    "possible_links = myresult.find_all('a')\n",
    "for link in possible_links:\n",
    "    if link.has_attr('href'):\n",
    "        print (link.attrs['href'])"
   ]
  },
  {
   "cell_type": "code",
   "execution_count": 53,
   "id": "74dfc508",
   "metadata": {
    "scrolled": false
   },
   "outputs": [
    {
     "name": "stdout",
     "output_type": "stream",
     "text": [
      "['', 'Jiji', 'Vehicles', 'Cars', '\\n      Cars\\n     \\n      | 48936\\n    ', '\\n      Buses & Microbuses\\n     \\n      | 2186\\n    ', '\\n      Heavy Equipment\\n     \\n      | 828\\n    ', '\\n      Motorbikes & Scooters\\n     \\n      | 1240\\n    ', '', '   \\n      Popular\\n      \\n      5\\n      Rated 5 stars out of 5                                      \\n      ENTERPRISE\\n     \\n      KSh 7,500,000\\n         \\n    Land Rover Range Rover Sport 2015 Off white\\n   \\n            Fully-loaded RR sports HSE super clean unit Seven seater new registration... \\nContact me for more...\\n             \\n              Foreign Used\\n              \\n              Automatic\\n                ', '     \\n      KSh 9,050,000\\n         \\n    Land Rover Range Rover Sport 2015 Matt Black\\n   \\n            Fully-loaded Range Sports Black edition HSE new arrival,new registration. \\nI offer both cash and...\\n             \\n              Foreign Used\\n              \\n              Automatic\\n                ', '     \\n      KSh 9,800,000\\n         \\n    Land Rover Range Rover Sport SE 4x4 (3.0L 6cyl 8A) 2016 Matt Black\\n   \\n            Fully-loaded Range Sport 3000cc petrol Supercharged.\\nContact me for more information and...\\n             \\n              Foreign Used\\n              \\n              Automatic\\n                ', '     \\n      KSh 9,300,000\\n         \\n    Land Rover Range Rover Sport 2015 Blue\\n   \\n            Fully-loaded Sports HSE.\\nMultifunctional Steering Controls \\nHeight Control.\\nCool box.\\nRear...\\n             \\n              Foreign Used\\n              \\n              Automatic\\n                ', '     \\n      KSh 9,300,000\\n         \\n    Land Rover Range Rover Sport 2014 HSE 4x4 (3.0L 6cyl 8A) Matt Black\\n   \\n            Fully-loaded Range Rover sports.\\nDaytime running lights.\\nOriginal 20\" Alloy rims.\\nHeight...\\n             \\n              Foreign Used\\n              \\n              Automatic\\n                ', '     \\n      KSh 9,800,000\\n         \\n    Land Rover Range Rover Sport 2014 HSE 4x4 (3.0L 6cyl 8A) Pearl\\n   \\n            Fully-loaded Range Sports \\nDiesel \\nSDV6\\nPanaromic sunroof.\\nMultifunctional Steering Controls.\\nHeight...\\n             \\n              Foreign Used\\n              \\n              Automatic\\n                ', '    \\n      ENTERPRISE\\n     \\n      KSh 9,999,999\\n         \\n    Land Rover Range Rover Sport 2016 Gray\\n   \\n            Toyota. range rover sports... ( with sunroof)\\nhight - control \\nmodel : 2016 \\ncolour : gray\\nccc :...\\n             \\n              Foreign Used\\n              \\n              Automatic\\n                ', '   \\n      Popular\\n      \\n      5\\n      Rated 5 stars out of 5                                      \\n      ENTERPRISE\\n     \\n      KSh 15,500,000\\n         \\n    Land Rover Range Rover Sport HSE 2018 Black\\n   \\n            Fully-loaded Sport HSE 2018 new arrival, low mileage unit super clean,with Panaromic sunroof,...\\n             \\n              Foreign Used\\n              \\n              Automatic\\n                ', '     \\n      KSh 9,150,000\\n         \\n    Land Rover Range Rover Sport 2015 Gold\\n   \\n            Fully-loaded range Sport with unique Colour Combination and beige interior.\\nNew arrival,new...\\n             \\n              Foreign Used\\n              \\n              Automatic\\n                ', \"     \\n      KSh 8,900,000\\n         \\n    Land Rover Range Rover Sport 2015 Gray\\n   \\n            Range sport hse fully-loaded. \\ni offer both cash and hire purchase terms upto 18 month's flexible...\\n             \\n              Foreign Used\\n              \\n              Automatic\\n                \", '     \\n      KSh 7,000,000\\n         \\n    Land Rover Range Rover Sport 2014 Orange\\n   \\n            Fully-loaded Sports SE Supercharged. \\nLeather seats.\\nMultifunctional Steering Controls \\nPanoramic...\\n             \\n              Foreign Used\\n              \\n              Automatic\\n                ', '     \\n      KSh 9,100,000\\n         \\n    Land Rover Range Rover Sport 2014 HSE 4x4 (3.0L 6cyl 8A) Black\\n   \\n            Sport HSE Fully-loaded \\nOrange interior.\\nLeather seats.\\nPanoramic SUNROOF.\\nMultifunctional Steering...\\n             \\n              Foreign Used\\n              \\n              Automatic\\n                ', '     \\n      KSh 9,500,000\\n         \\n    Land Rover Range Rover Sport 2015 Red\\n   \\n            Range rover sport.\\ndiesel supercharged.\\n3500cc\\nhse. \\nfully-loaded.\\ndaytime running lights.\\nxenon...\\n             \\n              Foreign Used\\n              \\n              Automatic\\n                ', '    \\n      ENTERPRISE\\n     \\n      KSh 10,000,000\\n         \\n    Land Rover Range Rover Sport SE 4x4 (3.0L 6cyl 8A) 2016 White\\n   \\n            3000cc accepting both cash and hire purchase... Contact me for more information.\\n             \\n              Foreign Used\\n              \\n              Automatic\\n                ', '     \\n      KSh 13,000,000\\n         \\n    Land Rover Range Rover Sport SVR 4x4 (5.0L 8cyl 8A) 2016 Black\\n   \\n            Fully-loaded sports SVR 5000cc Supercharged petrol unit with dual loud exhaust pop and...\\n             \\n              Foreign Used\\n              \\n              Automatic\\n                ', '     \\n      KSh 9,100,000\\n         \\n    Land Rover Range Rover Sport 2015 Red\\n   \\n            Fully-loaded sports HSE 3000cc Supercharged petrol.\\nBrown leather seats interior and Panaromic...\\n             \\n              Foreign Used\\n              \\n              Automatic\\n                ', '     \\n      KSh 8,850,000\\n         \\n    Land Rover Range Rover Sport 2015 Silver\\n   \\n            Fully-loaded range sport unique colour combination.\\nheight control.\\ndaytime running lights.\\noriginal...\\n             \\n              Foreign Used\\n              \\n              Automatic\\n                ', '     \\n      KSh 9,500,000\\n         \\n    Land Rover Range Rover Sport 2014 Off white\\n   \\n            Fully-loaded Range Rover Sports \\nPetrol\\n5000cc.\\nSupercharged.\\nPanaromic sunroof.\\nleather...\\n             \\n              Foreign Used\\n              \\n              Automatic\\n                ', '     \\n      KSh 8,300,000\\n         \\n    Land Rover Range Rover Sport HSE 4x4 (3.0L 6cyl 8A) 2014 Off White\\n   \\n            Fully-loaded Range Sports Diesel. \\nLumar 2021 Bodykits.\\nUnique Colour Combination.\\nBeige and black...\\n             \\n              Foreign Used\\n              \\n              Automatic\\n                ', '     \\n      KSh 9,000,000\\n         \\n    Land Rover Range Rover Sport 2014 HSE 4x4 (3.0L 6cyl 8A) Red\\n   \\n            Fully-loaded sport hse.\\ndaytime running lights.\\nxenon headlights.\\nunique colour combination.\\nrotary...\\n             \\n              Foreign Used\\n              \\n              Automatic\\n                ', '', '\\n        1\\n      ', '\\n        2\\n      ', '\\n        3\\n      ', '\\n        4\\n      ', '\\n        5\\n      ', '\\n        10\\n      ', '', 'Land Rover Range Rover Sport 2015 Cars', 'Land Rover Range Rover Sport 2016 Cars', 'Land Rover Range Rover Sport 2017 Cars', 'Land Rover Range Rover Sport 2014 Cars', 'Land Rover Range Rover Sport 2016 White Cars', 'Land Rover Range Rover Sport 2016 Black Cars', 'Land Rover Range Rover Sport 2015 White Cars', 'Land Rover Range Rover Sport 2016 Gray Cars', 'Land Rover Range Rover Sport 2016 Blue Cars', 'Land Rover Range Rover Sport 2015 Red Cars', 'Land Rover Range Rover Sport 2017 White Cars', 'Land Rover Range Rover Sport 2015 Gray Cars', 'Land Rover Range Rover Sport 2015 Blue Cars', 'Land Rover Range Rover Sport 2015 Black Cars', 'Land Rover Range Rover Sport 2013 Cars', 'Land Rover Range Rover Sport 2011 Cars', 'Land Rover Range Rover Sport 2017 Blue Cars', 'Land Rover Range Rover Sport 2014 White Cars', '\\n          Land Rover Range Rover Sport 2015 Off white\\n        ', '\\n          Land Rover Range Rover Sport HSE 2018 Black\\n        ', '\\n          Land Rover Range Rover Sport SVR 4x4 (5.0L 8cyl 8A) 2016 Black\\n        ', '\\n          Land Rover Range Rover Sport SE 4x4 (3.0L 6cyl 8A) 2016 White\\n        ', '\\n          Land Rover Range Rover Sport SVR 4x4 (5.0L 8cyl 8A) 2016 Black\\n        ', '\\n          Land Rover Range Rover Sport HSE 2018 Black\\n        ', '\\n          Land Rover Range Rover Sport 2014 Orange\\n        ', '\\n          Land Rover Range Rover Sport 2015 Off white\\n        ', '\\n          Land Rover Range Rover Sport HSE 4x4 (3.0L 6cyl 8A) 2014 Off White\\n        ', '', '', '\\n        About Jiji\\n      ', '\\n        We are hiring!\\n      ', '\\n        Terms & Conditions\\n      ', '\\n        Billing Policy\\n      ', '\\n        Jiji Tips\\n      ', '\\n        FAQ\\n      ', '\\n        Privacy Policy\\n      ', '\\n        Contact Us\\n      ', '\\n        Jiji Africa\\n      ', '\\n        Copyright Infringement Policy\\n      ', '', '', '', '', '', '', '', '', '']\n"
     ]
    }
   ],
   "source": [
    "rangeroversport=[]\n",
    "for items in possible_links:\n",
    "    rangeroversport.append(items.text)\n",
    "print(rangeroversport)\n",
    "    "
   ]
  },
  {
   "cell_type": "code",
   "execution_count": 54,
   "id": "475f3536",
   "metadata": {},
   "outputs": [
    {
     "ename": "SyntaxError",
     "evalue": "invalid syntax (1235331270.py, line 1)",
     "output_type": "error",
     "traceback": [
      "\u001b[1;36m  Cell \u001b[1;32mIn[54], line 1\u001b[1;36m\u001b[0m\n\u001b[1;33m    for\u001b[0m\n\u001b[1;37m        ^\u001b[0m\n\u001b[1;31mSyntaxError\u001b[0m\u001b[1;31m:\u001b[0m invalid syntax\n"
     ]
    }
   ],
   "source": [
    "for "
   ]
  },
  {
   "cell_type": "code",
   "execution_count": null,
   "id": "9de8bbfc",
   "metadata": {},
   "outputs": [],
   "source": []
  }
 ],
 "metadata": {
  "kernelspec": {
   "display_name": "Python 3 (ipykernel)",
   "language": "python",
   "name": "python3"
  },
  "language_info": {
   "codemirror_mode": {
    "name": "ipython",
    "version": 3
   },
   "file_extension": ".py",
   "mimetype": "text/x-python",
   "name": "python",
   "nbconvert_exporter": "python",
   "pygments_lexer": "ipython3",
   "version": "3.11.5"
  }
 },
 "nbformat": 4,
 "nbformat_minor": 5
}
