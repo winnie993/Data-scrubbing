{
 "cells": [
  {
   "cell_type": "code",
   "execution_count": 1,
   "id": "73338633",
   "metadata": {},
   "outputs": [
    {
     "name": "stdout",
     "output_type": "stream",
     "text": [
      "Requirement already satisfied: beautifulsoup4 in c:\\users\\admin\\anaconda3\\lib\\site-packages (4.12.2)Note: you may need to restart the kernel to use updated packages.\n",
      "\n",
      "Requirement already satisfied: soupsieve>1.2 in c:\\users\\admin\\anaconda3\\lib\\site-packages (from beautifulsoup4) (2.4)\n"
     ]
    }
   ],
   "source": [
    "pip install beautifulsoup4\n"
   ]
  },
  {
   "cell_type": "code",
   "execution_count": 2,
   "id": "9c71ed91",
   "metadata": {},
   "outputs": [],
   "source": [
    "import requests\n",
    "from bs4 import BeautifulSoup"
   ]
  },
  {
   "cell_type": "code",
   "execution_count": 3,
   "id": "e352e5ef",
   "metadata": {},
   "outputs": [
    {
     "data": {
      "text/plain": [
       "[<div class=\"prc\">KSh 27,999</div>,\n",
       " <div class=\"prc\">KSh 28,499</div>,\n",
       " <div class=\"prc\">KSh 27,999</div>,\n",
       " <div class=\"prc\">KSh 26,599</div>,\n",
       " <div class=\"prc\">KSh 28,599</div>,\n",
       " <div class=\"prc\">KSh 29,999</div>,\n",
       " <div class=\"prc\">KSh 27,490</div>,\n",
       " <div class=\"prc\">KSh 28,500</div>,\n",
       " <div class=\"prc\">KSh 27,699</div>,\n",
       " <div class=\"prc\">KSh 27,699</div>,\n",
       " <div class=\"prc\">KSh 28,999</div>,\n",
       " <div class=\"prc\">KSh 29,000</div>,\n",
       " <div class=\"prc\">KSh 27,999</div>,\n",
       " <div class=\"prc\">KSh 27,899</div>,\n",
       " <div class=\"prc\">KSh 25,999</div>,\n",
       " <div class=\"prc\">KSh 34,999</div>,\n",
       " <div class=\"prc\">KSh 29,000</div>,\n",
       " <div class=\"prc\">KSh 31,000</div>,\n",
       " <div class=\"prc\">KSh 28,000</div>,\n",
       " <div class=\"prc\">KSh 34,999</div>,\n",
       " <div class=\"prc\">KSh 34,999</div>,\n",
       " <div class=\"prc\">KSh 33,000</div>,\n",
       " <div class=\"prc\">KSh 34,999</div>,\n",
       " <div class=\"prc\">KSh 34,999</div>,\n",
       " <div class=\"prc\">KSh 34,899</div>]"
      ]
     },
     "execution_count": 3,
     "metadata": {},
     "output_type": "execute_result"
    }
   ],
   "source": [
    "myurl='https://www.jumia.co.ke/televisions/samsung/?display_size=32.0--32#catalog-listing'\n",
    "response= requests.get(myurl)\n",
    "myresult = BeautifulSoup(response.content, 'html.parser')\n",
    "allnames = myresult.find_all(class_='name')\n",
    "allprices=myresult.find_all(class_='prc')\n",
    "\n",
    "allnames\n",
    "allprices\n"
   ]
  },
  {
   "cell_type": "code",
   "execution_count": 4,
   "id": "bfc963e1",
   "metadata": {},
   "outputs": [
    {
     "data": {
      "text/plain": [
       "<function print(*args, sep=' ', end='\\n', file=None, flush=False)>"
      ]
     },
     "execution_count": 4,
     "metadata": {},
     "output_type": "execute_result"
    }
   ],
   "source": [
    "nameArray = []\n",
    "for item in allnames:\n",
    "    nameArray.append(item.text)\n",
    "\n",
    "#strote the names in a list\n",
    "listNameArray = list(nameArray)\n",
    "print"
   ]
  },
  {
   "cell_type": "code",
   "execution_count": 5,
   "id": "64224fe2",
   "metadata": {},
   "outputs": [
    {
     "name": "stdout",
     "output_type": "stream",
     "text": [
      "['KSh 27,999', 'KSh 28,499', 'KSh 27,999', 'KSh 26,599', 'KSh 28,599', 'KSh 29,999', 'KSh 27,490', 'KSh 28,500', 'KSh 27,699', 'KSh 27,699', 'KSh 28,999', 'KSh 29,000', 'KSh 27,999', 'KSh 27,899', 'KSh 25,999', 'KSh 34,999', 'KSh 29,000', 'KSh 31,000', 'KSh 28,000', 'KSh 34,999', 'KSh 34,999', 'KSh 33,000', 'KSh 34,999', 'KSh 34,999', 'KSh 34,899']\n"
     ]
    }
   ],
   "source": [
    "pricesarray = []\n",
    "for item in allprices:\n",
    "    pricesarray.append(item.text)\n",
    "Listpricesarray = list(pricesarray)\n",
    "print(Listpricesarray)\n"
   ]
  },
  {
   "cell_type": "code",
   "execution_count": 6,
   "id": "0c7a4d02",
   "metadata": {},
   "outputs": [
    {
     "name": "stdout",
     "output_type": "stream",
     "text": [
      "[('Samsung UA32T5300AU,32 Inch Smart HD TV Series 5 Inbuilt WIFI + FREE Wall Bracket', 'KSh 27,999'), ('Samsung 32T5300 32\" Smart LED Full HD TV - Black', 'KSh 28,499'), ('Samsung 32\" INCH Digital HD TV', 'KSh 27,999'), ('Samsung UA32T5300AU, 32\" Smart TV HDR T5300Series, NetflixYoutube', 'KSh 26,599'), ('Samsung 32\" HD SMART TV, HDR, NETFLIX T5300 SERIES 5-Black', 'KSh 28,599'), (\"Samsung 32T5300 32'' Smart Digital Full HD TV-Black Inbuilt Decoder\", 'KSh 29,999'), ('Samsung 32T5300 32\" Smart Full HD TV HDR Series 5 Inbuilt WIFI Netflix, Youtube Etc', 'KSh 27,490'), ('Samsung 32T5300 32 Inch Smart LED HD TV - Black', 'KSh 28,500'), ('Samsung 32T5300 - 32 Inch Smart LED Full HD TV - Black', 'KSh 27,699'), ('Samsung 32\" Smart Full HD TV Series 5 Inbuilt Decoder Class A+ Panel', 'KSh 27,699'), ('Samsung 32T5300 Smart Full HD TV HDR Series 5 Inbuilt WIFI Netflix,Youtube', 'KSh 28,999'), ('Samsung 32\" 32T5300 Smart LED Full HD TV - Black', 'KSh 29,000'), ('Samsung UA32T5300AU,32 Inch Smart TV HDR TV Series 5 Inbuilt WIFI+BRACKET+EXTENSION', 'KSh 27,999'), ('Samsung UA32T5300AU,32 Inch Smart TV HDR TV Series 5 Inbuilt WIFI+FREE TV Guard', 'KSh 27,899'), ('Samsung UA32T5300AU, 32\" Smart HD TV HDR 5Series, NetflixYoutube', 'KSh 25,999'), (\"Samsung 32T5300 32'' Smart Digital Full HD TV-Black Inbuilt Decoder smarter\", 'KSh 34,999'), ('Samsung 32N5000 - 32 Inch  - HD LED Digital TV -  Black', 'KSh 29,000'), ('Samsung 32T5300 32 Inch Smart LED Full HD TV - Black', 'KSh 31,000'), (\"Samsung 32'' HD LED Digital TV DVBT2/S2,CLEAR MOTION UA32N5000AK- BLACK\", 'KSh 28,000'), ('Samsung 32” HD Flat Smart Digital TV', 'KSh 34,999'), ('Samsung 32” HD Flat Smart Digital TV', 'KSh 34,999'), (\"Samsung 32'' SMART TV, NETFLIX,YOUTUBE SERIES 5 -UA32T5300AU\", 'KSh 33,000'), ('Samsung 32T5300 32\" Smart LED Full HD TV - Black', 'KSh 34,999'), ('Samsung  32T5300 – 32” HD Flat Smart Digital TV', 'KSh 34,999'), (\"Samsung 32T5300 32'' Smart Digital Full HD TV-Black Inbuilt Decoder\", 'KSh 34,899')]\n"
     ]
    }
   ],
   "source": [
    "nameprice= list(zip(nameArray, pricesarray))\n",
    "print(nameprice)"
   ]
  },
  {
   "cell_type": "code",
   "execution_count": 7,
   "id": "5bb1f560",
   "metadata": {},
   "outputs": [],
   "source": [
    "import pandas as pd"
   ]
  },
  {
   "cell_type": "code",
   "execution_count": 8,
   "id": "1f6ef750",
   "metadata": {},
   "outputs": [],
   "source": [
    "myDF = pd.DataFrame({'Name':nameArray , 'The Price (KES)':pricesarray })"
   ]
  },
  {
   "cell_type": "code",
   "execution_count": 9,
   "id": "30cba539",
   "metadata": {
    "scrolled": true
   },
   "outputs": [
    {
     "data": {
      "text/html": [
       "<div>\n",
       "<style scoped>\n",
       "    .dataframe tbody tr th:only-of-type {\n",
       "        vertical-align: middle;\n",
       "    }\n",
       "\n",
       "    .dataframe tbody tr th {\n",
       "        vertical-align: top;\n",
       "    }\n",
       "\n",
       "    .dataframe thead th {\n",
       "        text-align: right;\n",
       "    }\n",
       "</style>\n",
       "<table border=\"1\" class=\"dataframe\">\n",
       "  <thead>\n",
       "    <tr style=\"text-align: right;\">\n",
       "      <th></th>\n",
       "      <th>Name</th>\n",
       "      <th>The Price (KES)</th>\n",
       "    </tr>\n",
       "  </thead>\n",
       "  <tbody>\n",
       "    <tr>\n",
       "      <th>0</th>\n",
       "      <td>Samsung UA32T5300AU,32 Inch Smart HD TV Series...</td>\n",
       "      <td>KSh 27,999</td>\n",
       "    </tr>\n",
       "    <tr>\n",
       "      <th>1</th>\n",
       "      <td>Samsung 32T5300 32\" Smart LED Full HD TV - Black</td>\n",
       "      <td>KSh 28,499</td>\n",
       "    </tr>\n",
       "    <tr>\n",
       "      <th>2</th>\n",
       "      <td>Samsung 32\" INCH Digital HD TV</td>\n",
       "      <td>KSh 27,999</td>\n",
       "    </tr>\n",
       "    <tr>\n",
       "      <th>3</th>\n",
       "      <td>Samsung UA32T5300AU, 32\" Smart TV HDR T5300Ser...</td>\n",
       "      <td>KSh 26,599</td>\n",
       "    </tr>\n",
       "    <tr>\n",
       "      <th>4</th>\n",
       "      <td>Samsung 32\" HD SMART TV, HDR, NETFLIX T5300 SE...</td>\n",
       "      <td>KSh 28,599</td>\n",
       "    </tr>\n",
       "    <tr>\n",
       "      <th>5</th>\n",
       "      <td>Samsung 32T5300 32'' Smart Digital Full HD TV-...</td>\n",
       "      <td>KSh 29,999</td>\n",
       "    </tr>\n",
       "    <tr>\n",
       "      <th>6</th>\n",
       "      <td>Samsung 32T5300 32\" Smart Full HD TV HDR Serie...</td>\n",
       "      <td>KSh 27,490</td>\n",
       "    </tr>\n",
       "    <tr>\n",
       "      <th>7</th>\n",
       "      <td>Samsung 32T5300 32 Inch Smart LED HD TV - Black</td>\n",
       "      <td>KSh 28,500</td>\n",
       "    </tr>\n",
       "    <tr>\n",
       "      <th>8</th>\n",
       "      <td>Samsung 32T5300 - 32 Inch Smart LED Full HD TV...</td>\n",
       "      <td>KSh 27,699</td>\n",
       "    </tr>\n",
       "    <tr>\n",
       "      <th>9</th>\n",
       "      <td>Samsung 32\" Smart Full HD TV Series 5 Inbuilt ...</td>\n",
       "      <td>KSh 27,699</td>\n",
       "    </tr>\n",
       "    <tr>\n",
       "      <th>10</th>\n",
       "      <td>Samsung 32T5300 Smart Full HD TV HDR Series 5 ...</td>\n",
       "      <td>KSh 28,999</td>\n",
       "    </tr>\n",
       "    <tr>\n",
       "      <th>11</th>\n",
       "      <td>Samsung 32\" 32T5300 Smart LED Full HD TV - Black</td>\n",
       "      <td>KSh 29,000</td>\n",
       "    </tr>\n",
       "    <tr>\n",
       "      <th>12</th>\n",
       "      <td>Samsung UA32T5300AU,32 Inch Smart TV HDR TV Se...</td>\n",
       "      <td>KSh 27,999</td>\n",
       "    </tr>\n",
       "    <tr>\n",
       "      <th>13</th>\n",
       "      <td>Samsung UA32T5300AU,32 Inch Smart TV HDR TV Se...</td>\n",
       "      <td>KSh 27,899</td>\n",
       "    </tr>\n",
       "    <tr>\n",
       "      <th>14</th>\n",
       "      <td>Samsung UA32T5300AU, 32\" Smart HD TV HDR 5Seri...</td>\n",
       "      <td>KSh 25,999</td>\n",
       "    </tr>\n",
       "    <tr>\n",
       "      <th>15</th>\n",
       "      <td>Samsung 32T5300 32'' Smart Digital Full HD TV-...</td>\n",
       "      <td>KSh 34,999</td>\n",
       "    </tr>\n",
       "    <tr>\n",
       "      <th>16</th>\n",
       "      <td>Samsung 32N5000 - 32 Inch  - HD LED Digital TV...</td>\n",
       "      <td>KSh 29,000</td>\n",
       "    </tr>\n",
       "    <tr>\n",
       "      <th>17</th>\n",
       "      <td>Samsung 32T5300 32 Inch Smart LED Full HD TV -...</td>\n",
       "      <td>KSh 31,000</td>\n",
       "    </tr>\n",
       "    <tr>\n",
       "      <th>18</th>\n",
       "      <td>Samsung 32'' HD LED Digital TV DVBT2/S2,CLEAR ...</td>\n",
       "      <td>KSh 28,000</td>\n",
       "    </tr>\n",
       "    <tr>\n",
       "      <th>19</th>\n",
       "      <td>Samsung 32” HD Flat Smart Digital TV</td>\n",
       "      <td>KSh 34,999</td>\n",
       "    </tr>\n",
       "    <tr>\n",
       "      <th>20</th>\n",
       "      <td>Samsung 32” HD Flat Smart Digital TV</td>\n",
       "      <td>KSh 34,999</td>\n",
       "    </tr>\n",
       "    <tr>\n",
       "      <th>21</th>\n",
       "      <td>Samsung 32'' SMART TV, NETFLIX,YOUTUBE SERIES ...</td>\n",
       "      <td>KSh 33,000</td>\n",
       "    </tr>\n",
       "    <tr>\n",
       "      <th>22</th>\n",
       "      <td>Samsung 32T5300 32\" Smart LED Full HD TV - Black</td>\n",
       "      <td>KSh 34,999</td>\n",
       "    </tr>\n",
       "    <tr>\n",
       "      <th>23</th>\n",
       "      <td>Samsung  32T5300 – 32” HD Flat Smart Digital TV</td>\n",
       "      <td>KSh 34,999</td>\n",
       "    </tr>\n",
       "    <tr>\n",
       "      <th>24</th>\n",
       "      <td>Samsung 32T5300 32'' Smart Digital Full HD TV-...</td>\n",
       "      <td>KSh 34,899</td>\n",
       "    </tr>\n",
       "  </tbody>\n",
       "</table>\n",
       "</div>"
      ],
      "text/plain": [
       "                                                 Name The Price (KES)\n",
       "0   Samsung UA32T5300AU,32 Inch Smart HD TV Series...      KSh 27,999\n",
       "1    Samsung 32T5300 32\" Smart LED Full HD TV - Black      KSh 28,499\n",
       "2                      Samsung 32\" INCH Digital HD TV      KSh 27,999\n",
       "3   Samsung UA32T5300AU, 32\" Smart TV HDR T5300Ser...      KSh 26,599\n",
       "4   Samsung 32\" HD SMART TV, HDR, NETFLIX T5300 SE...      KSh 28,599\n",
       "5   Samsung 32T5300 32'' Smart Digital Full HD TV-...      KSh 29,999\n",
       "6   Samsung 32T5300 32\" Smart Full HD TV HDR Serie...      KSh 27,490\n",
       "7     Samsung 32T5300 32 Inch Smart LED HD TV - Black      KSh 28,500\n",
       "8   Samsung 32T5300 - 32 Inch Smart LED Full HD TV...      KSh 27,699\n",
       "9   Samsung 32\" Smart Full HD TV Series 5 Inbuilt ...      KSh 27,699\n",
       "10  Samsung 32T5300 Smart Full HD TV HDR Series 5 ...      KSh 28,999\n",
       "11   Samsung 32\" 32T5300 Smart LED Full HD TV - Black      KSh 29,000\n",
       "12  Samsung UA32T5300AU,32 Inch Smart TV HDR TV Se...      KSh 27,999\n",
       "13  Samsung UA32T5300AU,32 Inch Smart TV HDR TV Se...      KSh 27,899\n",
       "14  Samsung UA32T5300AU, 32\" Smart HD TV HDR 5Seri...      KSh 25,999\n",
       "15  Samsung 32T5300 32'' Smart Digital Full HD TV-...      KSh 34,999\n",
       "16  Samsung 32N5000 - 32 Inch  - HD LED Digital TV...      KSh 29,000\n",
       "17  Samsung 32T5300 32 Inch Smart LED Full HD TV -...      KSh 31,000\n",
       "18  Samsung 32'' HD LED Digital TV DVBT2/S2,CLEAR ...      KSh 28,000\n",
       "19               Samsung 32” HD Flat Smart Digital TV      KSh 34,999\n",
       "20               Samsung 32” HD Flat Smart Digital TV      KSh 34,999\n",
       "21  Samsung 32'' SMART TV, NETFLIX,YOUTUBE SERIES ...      KSh 33,000\n",
       "22   Samsung 32T5300 32\" Smart LED Full HD TV - Black      KSh 34,999\n",
       "23    Samsung  32T5300 – 32” HD Flat Smart Digital TV      KSh 34,999\n",
       "24  Samsung 32T5300 32'' Smart Digital Full HD TV-...      KSh 34,899"
      ]
     },
     "execution_count": 9,
     "metadata": {},
     "output_type": "execute_result"
    }
   ],
   "source": [
    "myDF"
   ]
  },
  {
   "cell_type": "code",
   "execution_count": null,
   "id": "6273a448",
   "metadata": {},
   "outputs": [],
   "source": []
  },
  {
   "cell_type": "code",
   "execution_count": null,
   "id": "ac0dfd52",
   "metadata": {},
   "outputs": [],
   "source": []
  }
 ],
 "metadata": {
  "kernelspec": {
   "display_name": "Python 3 (ipykernel)",
   "language": "python",
   "name": "python3"
  },
  "language_info": {
   "codemirror_mode": {
    "name": "ipython",
    "version": 3
   },
   "file_extension": ".py",
   "mimetype": "text/x-python",
   "name": "python",
   "nbconvert_exporter": "python",
   "pygments_lexer": "ipython3",
   "version": "3.11.5"
  }
 },
 "nbformat": 4,
 "nbformat_minor": 5
}
